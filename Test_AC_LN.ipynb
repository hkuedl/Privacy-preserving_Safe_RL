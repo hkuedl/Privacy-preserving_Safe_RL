{
 "cells": [
  {
   "cell_type": "code",
   "execution_count": 1,
   "metadata": {},
   "outputs": [],
   "source": [
    "import torch\n",
    "import numpy as np\n",
    "from Environment.Env_con_hhL_NewObs import Multi_Energy_Env_hhl\n",
    "from Environment.Env_con_mhL import Multi_Energy_Env_mhl\n",
    "from Environment.Env_con_lhL import Multi_Energy_Env_lhl\n",
    "\n",
    "import Simulation.utils.pytorch_util as ptu\n",
    "from Simulation.Replay_buffer import ReplayBuffer\n",
    "from Simulation.utils.policy import TanhGaussianPolicy\n",
    "from Simulation.SAC import SACTrainer\n",
    "from Simulation.utils.networks import ConcatMlp\n",
    "from Environment.Env_NewObs_OneYear_Test3Op_Privacy_AC_LN import Multi_Energy_Env\n",
    "# from Environment.Env_NewObs_Oneday_PSO_HSO_GSO import Multi_Energy_Env\n",
    "from Simulation.Algorithm_year_Test3Op_Privacy_AC_LN import BatchRLAlgorithm "
   ]
  },
  {
   "cell_type": "code",
   "execution_count": 2,
   "metadata": {},
   "outputs": [
    {
     "name": "stdout",
     "output_type": "stream",
     "text": [
      "Current working directory: /home/user/workspaces/Multi_energy\n",
      "Current working directory: /home/user\n"
     ]
    }
   ],
   "source": [
    "import os\n",
    "\n",
    "print(\"Current working directory:\", os.getcwd())\n",
    "\n",
    "# 指定目标文件夹的路径\n",
    "target_folder = \"/home/user/\"\n",
    "\n",
    "# 更改当前工作目录\n",
    "os.chdir(target_folder)\n",
    "print(\"Current working directory:\", os.getcwd())"
   ]
  },
  {
   "cell_type": "code",
   "execution_count": 3,
   "metadata": {},
   "outputs": [
    {
     "name": "stdout",
     "output_type": "stream",
     "text": [
      "Set parameter WLSAccessID\n",
      "Set parameter WLSSecret\n",
      "Set parameter LicenseID to value 2476078\n",
      "Academic license 2476078 - for non-commercial use only - registered to u3___@connect.hku.hk\n",
      "cumulative cost: 165.55625513568768\n"
     ]
    }
   ],
   "source": [
    "# Import Policy\n",
    "layer_size = 256\n",
    "policy = TanhGaussianPolicy(\n",
    "        obs_dim=34,\n",
    "        action_dim=24,\n",
    "        hidden_sizes=[layer_size, layer_size],\n",
    "    )\n",
    "policy.load_state_dict(torch.load('workspaces/Multi_energy/Results/policy.pth'))\n",
    "\n",
    "# Initialization\n",
    "env = Multi_Energy_Env()\n",
    "algorithm = BatchRLAlgorithm(\n",
    "    env = env,\n",
    "    policy = policy,\n",
    "    num_env_steps_per_epoch = int(24)\n",
    ")\n",
    "\n"
   ]
  }
 ],
 "metadata": {
  "kernelspec": {
   "display_name": "base",
   "language": "python",
   "name": "python3"
  },
  "language_info": {
   "codemirror_mode": {
    "name": "ipython",
    "version": 3
   },
   "file_extension": ".py",
   "mimetype": "text/x-python",
   "name": "python",
   "nbconvert_exporter": "python",
   "pygments_lexer": "ipython3",
   "version": "3.11.5"
  }
 },
 "nbformat": 4,
 "nbformat_minor": 2
}
