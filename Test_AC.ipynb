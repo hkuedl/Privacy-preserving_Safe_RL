{
 "cells": [
  {
   "cell_type": "code",
   "execution_count": 1,
   "metadata": {},
   "outputs": [],
   "source": [
    "import torch\n",
    "import numpy as np\n",
    "from Environment.Env_con_hhL_NewObs import Multi_Energy_Env_hhl\n",
    "from Environment.Env_con_mhL import Multi_Energy_Env_mhl\n",
    "from Environment.Env_con_lhL import Multi_Energy_Env_lhl\n",
    "\n",
    "import Simulation.utils.pytorch_util as ptu\n",
    "from Simulation.Replay_buffer import ReplayBuffer\n",
    "from Simulation.utils.policy import TanhGaussianPolicy\n",
    "from Simulation.SAC import SACTrainer\n",
    "from Simulation.utils.networks import ConcatMlp\n",
    "from Environment.Env_NewObs_OneYear_Test3Op_Privacy_AC import Multi_Energy_Env\n",
    "# from Environment.Env_NewObs_Oneday_PSO_HSO_GSO import Multi_Energy_Env\n",
    "from Simulation.Algorithm_year_Test3Op_Privacy_AC import BatchRLAlgorithm             \n"
   ]
  },
  {
   "cell_type": "code",
   "execution_count": 2,
   "metadata": {},
   "outputs": [
    {
     "name": "stdout",
     "output_type": "stream",
     "text": [
      "Current working directory: /home/user/workspaces/Multi_energy\n",
      "Current working directory: /home/user\n"
     ]
    }
   ],
   "source": [
    "import os\n",
    "\n",
    "print(\"Current working directory:\", os.getcwd())\n",
    "\n",
    "# 指定目标文件夹的路径\n",
    "target_folder = \"/home/user/\"\n",
    "\n",
    "# 更改当前工作目录\n",
    "os.chdir(target_folder)\n",
    "print(\"Current working directory:\", os.getcwd())"
   ]
  },
  {
   "cell_type": "code",
   "execution_count": 3,
   "metadata": {},
   "outputs": [
    {
     "name": "stdout",
     "output_type": "stream",
     "text": [
      "Set parameter WLSAccessID\n",
      "Set parameter WLSSecret\n",
      "Set parameter LicenseID to value 2476078\n",
      "Academic license 2476078 - for non-commercial use only - registered to u3___@connect.hku.hk\n",
      "Epoch: 334 Violation: 4723793.024996473 Episodic reward: [-543.67541844] Episodic cost: [-2142.63566627]\n",
      "Epoch: 335 Violation: 101217145.2267043 Episodic reward: [-528.92815239] Episodic cost: [-2088.12969701]\n",
      "Epoch: 336 Violation: 7310820.119266881 Episodic reward: [-566.64897586] Episodic cost: [-2184.55064324]\n",
      "Epoch: 337 Violation: 626361.0504164592 Episodic reward: [-569.66221949] Episodic cost: [-2209.12240873]\n",
      "Epoch: 338 Violation: 4600260.4880244145 Episodic reward: [-590.52033925] Episodic cost: [-2272.37955851]\n",
      "Epoch: 339 Violation: 8516536.044498585 Episodic reward: [-604.15538879] Episodic cost: [-2299.8571579]\n",
      "Epoch: 340 Violation: 5550411.679930596 Episodic reward: [-591.91152025] Episodic cost: [-2301.45018358]\n",
      "Epoch: 341 Violation: 2947357.860206894 Episodic reward: [-601.90225349] Episodic cost: [-2310.9740295]\n",
      "Epoch: 342 Violation: 9323893.042849058 Episodic reward: [-608.17896831] Episodic cost: [-2275.01031821]\n",
      "Epoch: 343 Violation: 11219395.192778828 Episodic reward: [-566.98087204] Episodic cost: [-2228.55807993]\n",
      "Epoch: 344 Violation: 9030317.553381097 Episodic reward: [-585.09418617] Episodic cost: [-2230.61492366]\n",
      "Epoch: 345 Violation: 26077226.43038751 Episodic reward: [-626.1778517] Episodic cost: [-2344.66673469]\n",
      "Epoch: 346 Violation: 5721359.130562812 Episodic reward: [-579.07621943] Episodic cost: [-2249.83764744]\n",
      "Epoch: 347 Violation: 11327471.090121076 Episodic reward: [-558.99518053] Episodic cost: [-2235.94313386]\n",
      "Epoch: 348 Violation: 8647942.651578745 Episodic reward: [-599.64451083] Episodic cost: [-2323.57009151]\n",
      "Epoch: 349 Violation: 139622031.36894715 Episodic reward: [-583.47758504] Episodic cost: [-2277.37164678]\n",
      "Epoch: 350 Violation: 2465459.01241577 Episodic reward: [-554.32745941] Episodic cost: [-2181.96300883]\n",
      "Epoch: 351 Violation: 818636.4303023386 Episodic reward: [-596.5246363] Episodic cost: [-2288.8174631]\n",
      "Epoch: 352 Violation: 6233397.607549165 Episodic reward: [-583.26636182] Episodic cost: [-2250.96059437]\n",
      "Epoch: 353 Violation: 1816738.9238230656 Episodic reward: [-621.65692575] Episodic cost: [-2343.46869983]\n",
      "Epoch: 354 Violation: 28321101.698767174 Episodic reward: [-637.7119228] Episodic cost: [-2372.98952077]\n",
      "Epoch: 355 Violation: 1812947.8846333206 Episodic reward: [-596.18194068] Episodic cost: [-2279.30949206]\n",
      "Epoch: 356 Violation: 3850813.613678475 Episodic reward: [-553.67870715] Episodic cost: [-2191.83095348]\n",
      "Epoch: 357 Violation: 641254.2707459206 Episodic reward: [-572.60543071] Episodic cost: [-2217.8611019]\n",
      "Epoch: 358 Violation: 7016622.7004873045 Episodic reward: [-577.28323262] Episodic cost: [-2221.27995933]\n",
      "Epoch: 359 Violation: 12596606.40889706 Episodic reward: [-609.98223569] Episodic cost: [-2315.26274066]\n",
      "Epoch: 360 Violation: 12753015.872852802 Episodic reward: [-641.92521228] Episodic cost: [-2388.67583471]\n",
      "Epoch: 361 Violation: 429636811.8534742 Episodic reward: [-642.40260421] Episodic cost: [-2398.09653905]\n",
      "Epoch: 362 Violation: 39142161.8599655 Episodic reward: [-599.06080687] Episodic cost: [-2282.36066101]\n",
      "Epoch: 363 Violation: 14025374.351889659 Episodic reward: [-544.41871849] Episodic cost: [-2056.48439453]\n",
      "Epoch: 364 Violation: 10352992.246920956 Episodic reward: [-539.71474151] Episodic cost: [-2107.55540576]\n"
     ]
    }
   ],
   "source": [
    "# Import Policy\n",
    "layer_size = 256\n",
    "policy = TanhGaussianPolicy(\n",
    "        obs_dim=15,\n",
    "        action_dim=10,\n",
    "        hidden_sizes=[layer_size, layer_size],\n",
    "    )\n",
    "policy.load_state_dict(torch.load('workspaces/Multi_energy/Results/policy.pth'))\n",
    "\n",
    "# Initialization\n",
    "env = Multi_Energy_Env()\n",
    "algorithm = BatchRLAlgorithm(\n",
    "    env = env,\n",
    "    policy = policy,\n",
    "    num_env_steps_per_epoch = int(24)\n",
    ")\n",
    "\n",
    "algorithm.test()"
   ]
  }
 ],
 "metadata": {
  "kernelspec": {
   "display_name": "base",
   "language": "python",
   "name": "python3"
  },
  "language_info": {
   "codemirror_mode": {
    "name": "ipython",
    "version": 3
   },
   "file_extension": ".py",
   "mimetype": "text/x-python",
   "name": "python",
   "nbconvert_exporter": "python",
   "pygments_lexer": "ipython3",
   "version": "3.11.5"
  }
 },
 "nbformat": 4,
 "nbformat_minor": 2
}
